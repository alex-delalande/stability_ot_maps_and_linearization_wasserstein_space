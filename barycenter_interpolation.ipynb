{
 "cells": [
  {
   "cell_type": "markdown",
   "metadata": {},
   "source": [
    "# Point clouds interporlation with approximate Wasserstein barycenters\n",
    "\n",
    "Imports:"
   ]
  },
  {
   "cell_type": "code",
   "execution_count": 1,
   "metadata": {},
   "outputs": [
    {
     "name": "stdout",
     "output_type": "stream",
     "text": [
      "Populating the interactive namespace from numpy and matplotlib\n"
     ]
    }
   ],
   "source": [
    "import numpy as np\n",
    "import matplotlib.pyplot as plt\n",
    "import imageio\n",
    "\n",
    "from src.barycenter import monge_barycenter\n",
    "%pylab inline"
   ]
  },
  {
   "cell_type": "markdown",
   "metadata": {},
   "source": [
    "Dimension of images:"
   ]
  },
  {
   "cell_type": "code",
   "execution_count": 2,
   "metadata": {},
   "outputs": [],
   "source": [
    "N = 70"
   ]
  },
  {
   "cell_type": "markdown",
   "metadata": {},
   "source": [
    "Load input histograms $(a_k)_{k=1}^R$, store them in a tensor $A$."
   ]
  },
  {
   "cell_type": "code",
   "execution_count": 3,
   "metadata": {},
   "outputs": [],
   "source": [
    "rescale = lambda x: (x-x.min())/(x.max()-x.min())\n",
    "normalize = lambda p: p/np.sum(p)\n",
    "names = ['disk', 'twodisks', 'letter-x', 'letter-z']\n",
    "vmin = .01\n",
    "A = np.zeros([N,N,len(names)])\n",
    "for i in range(len(names)):\n",
    "    a = imageio.imread(\"data/\" + names[i] + \".bmp\")\n",
    "    a = normalize(rescale(a)+vmin)\n",
    "    A[:,:,i] = a"
   ]
  },
  {
   "cell_type": "markdown",
   "metadata": {},
   "source": [
    "Convert the histograms into point clouds and shift them for visualization:"
   ]
  },
  {
   "cell_type": "code",
   "execution_count": 4,
   "metadata": {},
   "outputs": [],
   "source": [
    "point_clouds = {}\n",
    "\n",
    "idxes = np.where(A[:, :, 0]>0.5*np.max(A[:, :, 0]))\n",
    "circle = np.zeros((len(idxes[0]), 2))\n",
    "circle[:, 0] = idxes[0]/N\n",
    "circle[:, 1] = idxes[1]/N\n",
    "point_clouds[0] = circle\n",
    "\n",
    "idxes = np.where(A[:, :, 1]>0.5*np.max(A[:, :, 1]))\n",
    "twodisks = np.zeros((len(idxes[0]), 2))\n",
    "twodisks[:, 0] = idxes[0]/N + 4\n",
    "twodisks[:, 1] = idxes[1]/N\n",
    "point_clouds[1] = twodisks\n",
    "\n",
    "idxes = np.where(A[:, :, 2]>0.5*np.max(A[:, :, 2]))\n",
    "letter_x = np.zeros((len(idxes[0]), 2))\n",
    "letter_x[:, 0] = idxes[0]/N\n",
    "letter_x[:, 1] = idxes[1]/N + 4\n",
    "point_clouds[2] = letter_x\n",
    "\n",
    "idxes = np.where(A[:, :, 3]>0.5*np.max(A[:, :, 3]))\n",
    "letter_z = np.zeros((len(idxes[0]), 2))\n",
    "letter_z[:, 0] = idxes[0]/N + 4\n",
    "letter_z[:, 1] = idxes[1]/N + 4\n",
    "point_clouds[3] = letter_z"
   ]
  },
  {
   "cell_type": "markdown",
   "metadata": {},
   "source": [
    "Display the input point clouds:"
   ]
  },
  {
   "cell_type": "code",
   "execution_count": 5,
   "metadata": {},
   "outputs": [
    {
     "data": {
      "image/png": "[encoded data removed]",
      "text/plain": [
       "<Figure size 360x360 with 4 Axes>"
      ]
     },
     "metadata": {
      "needs_background": "light"
     },
     "output_type": "display_data"
    }
   ],
   "source": [
    "plt.figure(figsize=(5,5))\n",
    "for i in range(4):\n",
    "    plt.subplot(2,2,i+1)\n",
    "    plt.scatter(point_clouds[i][:, 0], point_clouds[i][:, 1], c='g')\n",
    "    plt.axis('off');"
   ]
  },
  {
   "cell_type": "markdown",
   "metadata": {},
   "source": [
    "Initialize barycenter approximation by computing the transport plan of each point cloud:"
   ]
  },
  {
   "cell_type": "code",
   "execution_count": 6,
   "metadata": {},
   "outputs": [],
   "source": [
    "barycenter_computation = monge_barycenter(point_clouds, grid_size=200)"
   ]
  },
  {
   "cell_type": "markdown",
   "metadata": {},
   "source": [
    "Compute interpolations:"
   ]
  },
  {
   "cell_type": "code",
   "execution_count": 7,
   "metadata": {},
   "outputs": [
    {
     "data": {
      "image/png": "[encoded data removed]",
      "text/plain": [
       "<Figure size 576x576 with 25 Axes>"
      ]
     },
     "metadata": {
      "needs_background": "light"
     },
     "output_type": "display_data"
    }
   ],
   "source": [
    "m = 5\n",
    "[T,S] = np.meshgrid(np.linspace(0, 1, m), np.linspace(0, 1, m))\n",
    "T = np.ravel(T,order=\"F\")\n",
    "S = np.ravel(S,order=\"F\")\n",
    "\n",
    "plt.figure(figsize=(8, 8))\n",
    "\n",
    "for j in range(m**2):\n",
    "        # weights\n",
    "        lambd = np.hstack((S[j]*T[j], (1-S[j])*T[j], S[j]*(1-T[j]), (1-S[j])*(1-T[j])))\n",
    "        # compute barycenter\n",
    "        barycenter_computation.fit(list(lambd))\n",
    "        # visualize result\n",
    "        plt.subplot(m, m, j+1)\n",
    "        plt.scatter(barycenter_computation.barycenter[:, 0],\n",
    "                    barycenter_computation.barycenter[:, 1], c='g')\n",
    "        plt.axis('off')"
   ]
  },
  {
   "cell_type": "code",
   "execution_count": null,
   "metadata": {},
   "outputs": [],
   "source": []
  }
 ],
 "metadata": {
  "kernelspec": {
   "display_name": "Python 3",
   "language": "python",
   "name": "python3"
  },
  "language_info": {
   "codemirror_mode": {
    "name": "ipython",
    "version": 3
   },
   "file_extension": ".py",
   "mimetype": "text/x-python",
   "name": "python",
   "nbconvert_exporter": "python",
   "pygments_lexer": "ipython3",
   "version": "3.7.4"
  }
 },
 "nbformat": 4,
 "nbformat_minor": 2
}
