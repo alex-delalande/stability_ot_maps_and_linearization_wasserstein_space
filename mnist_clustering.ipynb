{
 "cells": [
  {
   "cell_type": "markdown",
   "metadata": {},
   "source": [
    "# Clustering the MNIST data set\n",
    "Imports:"
   ]
  },
  {
   "cell_type": "code",
   "execution_count": 1,
   "metadata": {},
   "outputs": [
    {
     "name": "stdout",
     "output_type": "stream",
     "text": [
      "Populating the interactive namespace from numpy and matplotlib\n"
     ]
    }
   ],
   "source": [
    "import numpy as np\n",
    "import matplotlib.pyplot as plt\n",
    "import idx2numpy\n",
    "\n",
    "from sklearn.cluster import KMeans\n",
    "\n",
    "from optimal_transport import semi_discrete_ot\n",
    "%pylab inline"
   ]
  },
  {
   "cell_type": "markdown",
   "metadata": {},
   "source": [
    "Load dataset:"
   ]
  },
  {
   "cell_type": "code",
   "execution_count": 2,
   "metadata": {},
   "outputs": [
    {
     "data": {
      "image/png": "[encoded data removed]",
      "text/plain": [
       "<Figure size 1152x36 with 12 Axes>"
      ]
     },
     "metadata": {
      "needs_background": "light"
     },
     "output_type": "display_data"
    }
   ],
   "source": [
    "file = 'data/train-images.idx3-ubyte'\n",
    "mnist_train_images = idx2numpy.convert_from_file(file)\n",
    "\n",
    "file = 'data/train-labels.idx1-ubyte'\n",
    "mnist_train_labels = idx2numpy.convert_from_file(file)\n",
    "\n",
    "\n",
    "# visualize some digits\n",
    "plt.figure(figsize=(16,0.5))\n",
    "for i in range(12):\n",
    "    plt.subplot(1, 12, i+1)\n",
    "    idx = np.random.randint(mnist_train_images.shape[0])\n",
    "    plt.imshow(mnist_train_images[idx], cmap='Greys')\n",
    "    plt.title(mnist_train_labels[idx])\n",
    "    plt.axis('off')"
   ]
  },
  {
   "cell_type": "markdown",
   "metadata": {},
   "source": [
    "Convert images into point clouds:"
   ]
  },
  {
   "cell_type": "code",
   "execution_count": 3,
   "metadata": {},
   "outputs": [
    {
     "data": {
      "image/png": "[encoded data removed]",
      "text/plain": [
       "<Figure size 1152x216 with 24 Axes>"
      ]
     },
     "metadata": {
      "needs_background": "light"
     },
     "output_type": "display_data"
    }
   ],
   "source": [
    "# image size\n",
    "N = 28\n",
    "\n",
    "# create point clouds and associated masses\n",
    "point_clouds, masses = {}, {}\n",
    "for i in range(len(mnist_train_images)):\n",
    "    # extract support of point cloud\n",
    "    idxes = np.where(mnist_train_images[i]>0)\n",
    "    cloud = np.zeros((len(idxes[0]), 2))\n",
    "    cloud[:, 0] = idxes[1]/N\n",
    "    cloud[:, 1] = 1 - idxes[0]/N\n",
    "    point_clouds[i] = cloud\n",
    "    # extract masses of point cloud\n",
    "    nu = mnist_train_images[i][np.where(mnist_train_images[i]>0)] + 1\n",
    "    masses[i] = nu / np.sum(nu)\n",
    "    \n",
    "# visualize some point clouds\n",
    "plt.figure(figsize=(16,3))\n",
    "for i in range(12):\n",
    "    plt.subplot(2, 12, i+1)\n",
    "    idx = np.random.randint(mnist_train_images.shape[0])\n",
    "    # show original image\n",
    "    plt.imshow(mnist_train_images[idx], cmap='Greys')\n",
    "    plt.title(mnist_train_labels[idx])\n",
    "    plt.axis('off')\n",
    "    plt.subplot(2, 12, 13+i)\n",
    "    # show associated point cloud\n",
    "    cloud = point_clouds[idx]\n",
    "    plt.scatter(cloud[:, 0], cloud[:, 1], s=1)\n",
    "    plt.xlim((-0.05, 1.05))\n",
    "    plt.ylim((-0.05, 1.05))\n",
    "    plt.axis('off')"
   ]
  },
  {
   "cell_type": "markdown",
   "metadata": {},
   "source": [
    "Compute transport plans of each training image:"
   ]
  },
  {
   "cell_type": "code",
   "execution_count": null,
   "metadata": {},
   "outputs": [
    {
     "name": "stderr",
     "output_type": "stream",
     "text": [
      "/home/leonid_wasserstein/anaconda3/lib/python3.7/site-packages/scipy/sparse/linalg/dsolve/linsolve.py:193: MatrixRankWarning: Matrix is exactly singular\n",
      "  warn(\"Matrix is exactly singular\", MatrixRankWarning)\n"
     ]
    }
   ],
   "source": [
    "grid_size = 50\n",
    "ot_mnist = semi_discrete_ot(grid_size=grid_size)\n",
    "ot_mnist.fit_transport_plans(point_clouds)#, masses)"
   ]
  },
  {
   "cell_type": "markdown",
   "metadata": {},
   "source": [
    "Perform K-Mean clustering on these transport plans:"
   ]
  },
  {
   "cell_type": "code",
   "execution_count": null,
   "metadata": {},
   "outputs": [],
   "source": [
    "n_clusters = 20\n",
    "\n",
    "np.random.seed(2)\n",
    "\n",
    "kmeans = KMeans(n_clusters=n_clusters, init='k-means++', n_init=10)\n",
    "kmeans.fit(ot_mnist.transport_plans)"
   ]
  },
  {
   "cell_type": "markdown",
   "metadata": {},
   "source": [
    "Plot centroids:"
   ]
  },
  {
   "cell_type": "code",
   "execution_count": null,
   "metadata": {},
   "outputs": [],
   "source": [
    "centroids = kmeans.cluster_centers_.reshape((n_clusters, -1, 2))\n",
    "\n",
    "# plot centroids\n",
    "plt.figure(figsize=(16,4))\n",
    "for i in range(n_clusters):\n",
    "    plt.subplot(2, 10, i+1)\n",
    "    plt.scatter(centroids[i, :, 0], centroids[i, :, 1], s=0.005)\n",
    "    plt.xlim((-0.05, 1.05))\n",
    "    plt.ylim((-0.05, 1.05))\n",
    "    plt.axis('off')"
   ]
  },
  {
   "cell_type": "code",
   "execution_count": null,
   "metadata": {},
   "outputs": [],
   "source": []
  }
 ],
 "metadata": {
  "kernelspec": {
   "display_name": "Python 3",
   "language": "python",
   "name": "python3"
  },
  "language_info": {
   "codemirror_mode": {
    "name": "ipython",
    "version": 3
   },
   "file_extension": ".py",
   "mimetype": "text/x-python",
   "name": "python",
   "nbconvert_exporter": "python",
   "pygments_lexer": "ipython3",
   "version": "3.7.4"
  }
 },
 "nbformat": 4,
 "nbformat_minor": 2
}
